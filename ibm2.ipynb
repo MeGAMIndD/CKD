{
  "nbformat": 4,
  "nbformat_minor": 0,
  "metadata": {
    "colab": {
      "name": "ibm2.ipynb",
      "provenance": [],
      "private_outputs": true,
      "authorship_tag": "ABX9TyNZoVrhZLvIrqftOs7sEJqc",
      "include_colab_link": true
    },
    "kernelspec": {
      "name": "python3",
      "display_name": "Python 3"
    }
  },
  "cells": [
    {
      "cell_type": "markdown",
      "metadata": {
        "id": "view-in-github",
        "colab_type": "text"
      },
      "source": [
        "<a href=\"https://colab.research.google.com/github/MeGAMIndD/CKD/blob/master/ibm2.ipynb\" target=\"_parent\"><img src=\"https://colab.research.google.com/assets/colab-badge.svg\" alt=\"Open In Colab\"/></a>"
      ]
    },
    {
      "cell_type": "code",
      "metadata": {
        "id": "iLvXRS19NGve",
        "colab_type": "code",
        "colab": {}
      },
      "source": [
        "!pip install tensorflow==2.2.0rc0\n"
      ],
      "execution_count": 0,
      "outputs": []
    },
    {
      "cell_type": "code",
      "metadata": {
        "id": "6jSRwQGUNRpv",
        "colab_type": "code",
        "colab": {}
      },
      "source": [
        "\n",
        "import tensorflow as tf\n",
        "if not tf.__version__ == '2.2.0-rc0':\n",
        "    print(tf.__version__)\n",
        "    raise ValueError('please upgrade to TensorFlow 2.2.0-rc0, or restart your Kernel (Kernel->Restart & Clear Output)')"
      ],
      "execution_count": 0,
      "outputs": []
    },
    {
      "cell_type": "code",
      "metadata": {
        "id": "TrBycAhWNWhy",
        "colab_type": "code",
        "colab": {}
      },
      "source": [
        "import numpy as np\n",
        "from numpy import concatenate\n",
        "from matplotlib import pyplot\n",
        "from pandas import read_csv\n",
        "from pandas import DataFrame\n",
        "from pandas import concat\n",
        "import sklearn\n",
        "from sklearn.preprocessing import MinMaxScaler\n",
        "from sklearn.metrics import mean_squared_error\n",
        "from tensorflow.keras.models import Sequential\n",
        "from tensorflow.keras.layers import Dense, Dropout\n",
        "from tensorflow.keras.layers import LSTM\n",
        "from tensorflow.keras.callbacks import Callback\n",
        "from tensorflow.keras.models import Sequential\n",
        "from tensorflow.keras.layers import LSTM, Dense, Activation\n",
        "import pickle\n",
        "import matplotlib.pyplot as plt\n",
        "from mpl_toolkits.mplot3d import Axes3D\n",
        "import sys\n",
        "from queue import Queue\n",
        "import pandas as pd\n",
        "import json\n",
        "%matplotlib inline"
      ],
      "execution_count": 0,
      "outputs": []
    },
    {
      "cell_type": "code",
      "metadata": {
        "id": "bEDilB6jN53C",
        "colab_type": "code",
        "colab": {}
      },
      "source": [
        "!rm watsoniotp.*\n",
        "!wget https://raw.githubusercontent.com/romeokienzler/developerWorks/master/lorenzattractor/watsoniotp.healthy.phase_aligned.pickle\n",
        "!wget https://raw.githubusercontent.com/romeokienzler/developerWorks/master/lorenzattractor/watsoniotp.broken.phase_aligned.pickle\n",
        "!mv watsoniotp.healthy.phase_aligned.pickle watsoniotp.healthy.pickle\n",
        "!mv watsoniotp.broken.phase_aligned.pickle watsoniotp.broken.pickle"
      ],
      "execution_count": 0,
      "outputs": []
    },
    {
      "cell_type": "code",
      "metadata": {
        "id": "B4Q_P5wSNXmg",
        "colab_type": "code",
        "colab": {}
      },
      "source": [
        "data_healthy = pickle.load(open('watsoniotp.healthy.pickle', 'rb'), encoding='latin1')\n",
        "data_broken = pickle.load(open('watsoniotp.broken.pickle', 'rb'), encoding='latin1')"
      ],
      "execution_count": 0,
      "outputs": []
    },
    {
      "cell_type": "code",
      "metadata": {
        "id": "bi-oMsRyNXrH",
        "colab_type": "code",
        "colab": {}
      },
      "source": [
        "fig = plt.figure()\n",
        "ax = fig.gca(projection='3d')\n",
        "\n",
        "ax.plot(data_healthy[:,0], data_healthy[:,1], data_healthy[:,2],lw=0.5)\n",
        "ax.set_xlabel(\"X Axis\")\n",
        "ax.set_ylabel(\"Y Axis\")\n",
        "ax.set_zlabel(\"Z Axis\")\n",
        "ax.set_title(\"Lorenz Attractor\")"
      ],
      "execution_count": 0,
      "outputs": []
    },
    {
      "cell_type": "code",
      "metadata": {
        "id": "CV_Ky02fNXu3",
        "colab_type": "code",
        "colab": {}
      },
      "source": [
        "fig = plt.figure()\n",
        "ax = fig.gca(projection='3d')\n",
        "\n",
        "ax.plot(data_broken[:,0], data_broken[:,1], data_broken[:,2],lw=0.5)\n",
        "ax.set_xlabel(\"X Axis\")\n",
        "ax.set_ylabel(\"Y Axis\")\n",
        "ax.set_zlabel(\"Z Axis\")\n",
        "ax.set_title(\"Lorenz Attractor\")"
      ],
      "execution_count": 0,
      "outputs": []
    },
    {
      "cell_type": "code",
      "metadata": {
        "id": "dCaFyQEANXx8",
        "colab_type": "code",
        "colab": {}
      },
      "source": [
        "\n",
        "data_healthy_fft = np.fft.fft(data_healthy).real\n",
        "data_broken_fft = np.fft.fft(data_broken).real"
      ],
      "execution_count": 0,
      "outputs": []
    },
    {
      "cell_type": "code",
      "metadata": {
        "id": "2qCbe9DqNX05",
        "colab_type": "code",
        "colab": {}
      },
      "source": [
        "print (data_healthy_fft.shape)\n",
        "print (data_healthy_fft)"
      ],
      "execution_count": 0,
      "outputs": []
    },
    {
      "cell_type": "code",
      "metadata": {
        "id": "qCcrgPSwNX30",
        "colab_type": "code",
        "colab": {}
      },
      "source": [
        "fig, ax = plt.subplots(num=None, figsize=(14, 6), dpi=80, facecolor='w', edgecolor='k')\n",
        "size = len(data_healthy_fft)\n",
        "ax.plot(range(0,size), data_healthy_fft[:,0].real, '-', color='blue', animated = True, linewidth=1)\n",
        "ax.plot(range(0,size), data_healthy_fft[:,1].real, '-', color='red', animated = True, linewidth=1)\n",
        "ax.plot(range(0,size), data_healthy_fft[:,2].real, '-', color='green', animated = True, linewidth=1)"
      ],
      "execution_count": 0,
      "outputs": []
    },
    {
      "cell_type": "code",
      "metadata": {
        "id": "kVrBOPyENX6M",
        "colab_type": "code",
        "colab": {}
      },
      "source": [
        "fig, ax = plt.subplots(num=None, figsize=(14, 6), dpi=80, facecolor='w', edgecolor='k')\n",
        "size = len(data_healthy_fft)\n",
        "ax.plot(range(0,size), data_broken_fft[:,0].real, '-', color='blue', animated = True, linewidth=1)\n",
        "ax.plot(range(0,size), data_broken_fft[:,1].real, '-', color='red', animated = True, linewidth=1)\n",
        "ax.plot(range(0,size), data_broken_fft[:,2].real, '-', color='green', animated = True, linewidth=1)"
      ],
      "execution_count": 0,
      "outputs": []
    },
    {
      "cell_type": "code",
      "metadata": {
        "id": "rtwURYfjNX-1",
        "colab_type": "code",
        "colab": {}
      },
      "source": [
        "def scaleData(data):\n",
        "    # normalize features\n",
        "    scaler = MinMaxScaler(feature_range=(0, 1))\n",
        "    return scaler.fit_transform(data)"
      ],
      "execution_count": 0,
      "outputs": []
    },
    {
      "cell_type": "code",
      "metadata": {
        "id": "LpviudTVNX9d",
        "colab_type": "code",
        "colab": {}
      },
      "source": [
        "data_healthy_scaled = scaleData(data_healthy_fft)\n",
        "data_broken_scaled = scaleData(data_broken_fft)"
      ],
      "execution_count": 0,
      "outputs": []
    },
    {
      "cell_type": "code",
      "metadata": {
        "id": "6R86bm4QNwFu",
        "colab_type": "code",
        "colab": {}
      },
      "source": [
        "data_healthy_scaled = data_healthy_scaled.T\n",
        "data_broken_scaled = data_broken_scaled.T"
      ],
      "execution_count": 0,
      "outputs": []
    },
    {
      "cell_type": "code",
      "metadata": {
        "id": "vxC58WefNwIq",
        "colab_type": "code",
        "colab": {}
      },
      "source": [
        "data_healthy_scaled.reshape(3, 3000)\n",
        "data_broken_scaled.reshape(3, 3000)"
      ],
      "execution_count": 0,
      "outputs": []
    },
    {
      "cell_type": "code",
      "metadata": {
        "id": "t-riR_X9NwNW",
        "colab_type": "code",
        "colab": {}
      },
      "source": [
        "dim = 3000\n",
        "\n",
        "samples = 3"
      ],
      "execution_count": 0,
      "outputs": []
    },
    {
      "cell_type": "code",
      "metadata": {
        "id": "XIHjms6OOsol",
        "colab_type": "code",
        "colab": {}
      },
      "source": [
        "class LossHistory(Callback):\n",
        "    def on_train_begin(self, logs={}):\n",
        "        self.losses = []\n",
        "\n",
        "    def on_batch_end(self, batch, logs={}):\n",
        "        sys.stdout.write(str(logs.get('loss'))+str(', '))\n",
        "        sys.stdout.flush()\n",
        "        self.losses.append(logs.get('loss'))\n",
        "        \n",
        "lr = LossHistory()"
      ],
      "execution_count": 0,
      "outputs": []
    },
    {
      "cell_type": "code",
      "metadata": {
        "id": "FaBO-eHGOxK2",
        "colab_type": "code",
        "colab": {}
      },
      "source": [
        "number_of_neurons_layer1 = 3000\n",
        "number_of_neurons_layer2 = 2300\n",
        "number_of_neurons_layer3 = 1\n",
        "number_of_epochs = 20"
      ],
      "execution_count": 0,
      "outputs": []
    },
    {
      "cell_type": "code",
      "metadata": {
        "id": "WyMtdd8VO4JY",
        "colab_type": "code",
        "colab": {}
      },
      "source": [
        "# design network\n",
        "from tensorflow.keras import optimizers\n",
        "sgd = optimizers.SGD(lr=0.01, clipnorm=1.)\n",
        "\n",
        "model = Sequential()\n",
        "model.add(Dense(number_of_neurons_layer1,input_shape=(dim, ), activation='relu'))\n",
        "model.add(Dense(number_of_neurons_layer2, activation='relu'))\n",
        "model.add(Dense(number_of_neurons_layer3, activation='sigmoid'))\n",
        "model.compile(loss='binary_crossentropy', optimizer=sgd)\n",
        "\n",
        "def train(data,label):\n",
        "    model.fit(data,label , epochs=number_of_epochs, batch_size=72, validation_data=(data, label), verbose=0, shuffle=True,callbacks=[lr])\n",
        "\n",
        "def score(data):\n",
        "    return model.predict(data)"
      ],
      "execution_count": 0,
      "outputs": []
    },
    {
      "cell_type": "code",
      "metadata": {
        "id": "-F9IimtNO45E",
        "colab_type": "code",
        "colab": {}
      },
      "source": [
        "label_healthy = np.repeat(1,3)\n",
        "label_healthy.shape = (3,1)\n",
        "label_broken = np.repeat(0,3)\n",
        "label_broken.shape = (3,1)\n",
        "\n",
        "train_healthy = np.hstack((data_healthy_scaled,label_healthy))\n",
        "train_broken = np.hstack((data_broken_scaled,label_broken))\n",
        "train_both = np.vstack((train_healthy,train_broken))"
      ],
      "execution_count": 0,
      "outputs": []
    },
    {
      "cell_type": "code",
      "metadata": {
        "id": "l_SQvPD3O6-r",
        "colab_type": "code",
        "colab": {}
      },
      "source": [
        "\n",
        "pd.DataFrame(train_healthy)"
      ],
      "execution_count": 0,
      "outputs": []
    },
    {
      "cell_type": "code",
      "metadata": {
        "id": "pKNMts-oO9ek",
        "colab_type": "code",
        "colab": {}
      },
      "source": [
        "pd.DataFrame(train_broken)"
      ],
      "execution_count": 0,
      "outputs": []
    },
    {
      "cell_type": "code",
      "metadata": {
        "id": "5UMXMj_fO9lq",
        "colab_type": "code",
        "colab": {}
      },
      "source": [
        "pd.DataFrame(train_both)"
      ],
      "execution_count": 0,
      "outputs": []
    },
    {
      "cell_type": "code",
      "metadata": {
        "id": "F1F38bZVO9oi",
        "colab_type": "code",
        "colab": {}
      },
      "source": [
        "\n",
        "features = train_both[:,:3000]\n",
        "labels = train_both[:,-1:]"
      ],
      "execution_count": 0,
      "outputs": []
    },
    {
      "cell_type": "code",
      "metadata": {
        "id": "Tq4CWCqngg60",
        "colab_type": "code",
        "colab": {}
      },
      "source": [
        "\n",
        "print(train_both[:3000])"
      ],
      "execution_count": 0,
      "outputs": []
    },
    {
      "cell_type": "code",
      "metadata": {
        "id": "J3-j2Cx5hLvp",
        "colab_type": "code",
        "colab": {}
      },
      "source": [
        "print(train_both[:,-1])"
      ],
      "execution_count": 0,
      "outputs": []
    },
    {
      "cell_type": "code",
      "metadata": {
        "id": "aXfuoekfO9sE",
        "colab_type": "code",
        "colab": {}
      },
      "source": [
        "train(features,labels)"
      ],
      "execution_count": 0,
      "outputs": []
    },
    {
      "cell_type": "code",
      "metadata": {
        "id": "0LXvHqjaPHu1",
        "colab_type": "code",
        "colab": {}
      },
      "source": [
        "fig, ax = plt.subplots(num=None, figsize=(14, 6), dpi=80, facecolor='w', edgecolor='k')\n",
        "size = len(lr.losses)\n",
        "ax.plot(range(0,size), lr.losses, '-', color='blue', animated = True, linewidth=1)\n"
      ],
      "execution_count": 0,
      "outputs": []
    },
    {
      "cell_type": "code",
      "metadata": {
        "id": "7SXB0s1GPJoE",
        "colab_type": "code",
        "colab": {}
      },
      "source": [
        "score(data_healthy_scaled)"
      ],
      "execution_count": 0,
      "outputs": []
    },
    {
      "cell_type": "code",
      "metadata": {
        "id": "XigSyufoPJrF",
        "colab_type": "code",
        "colab": {}
      },
      "source": [
        "score(data_broken_scaled)"
      ],
      "execution_count": 0,
      "outputs": []
    },
    {
      "cell_type": "code",
      "metadata": {
        "id": "lfC48Yo2e5Un",
        "colab_type": "code",
        "colab": {}
      },
      "source": [
        ""
      ],
      "execution_count": 0,
      "outputs": []
    }
  ]
}